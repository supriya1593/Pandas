{
 "cells": [
  {
   "cell_type": "code",
   "execution_count": 1,
   "id": "47264215",
   "metadata": {},
   "outputs": [
    {
     "name": "stdout",
     "output_type": "stream",
     "text": [
      "Requirement already satisfied: pandas in c:\\users\\chandrika\\anaconda3\\lib\\site-packages (1.4.2)\n",
      "Requirement already satisfied: numpy>=1.18.5 in c:\\users\\chandrika\\anaconda3\\lib\\site-packages (from pandas) (1.21.5)\n",
      "Requirement already satisfied: python-dateutil>=2.8.1 in c:\\users\\chandrika\\anaconda3\\lib\\site-packages (from pandas) (2.8.2)\n",
      "Requirement already satisfied: pytz>=2020.1 in c:\\users\\chandrika\\anaconda3\\lib\\site-packages (from pandas) (2021.3)\n",
      "Requirement already satisfied: six>=1.5 in c:\\users\\chandrika\\anaconda3\\lib\\site-packages (from python-dateutil>=2.8.1->pandas) (1.16.0)\n"
     ]
    }
   ],
   "source": [
    "!pip install pandas"
   ]
  },
  {
   "cell_type": "code",
   "execution_count": 1,
   "id": "7d069bf1",
   "metadata": {},
   "outputs": [],
   "source": [
    "import pandas as pd"
   ]
  },
  {
   "cell_type": "code",
   "execution_count": 2,
   "id": "fc78f75c",
   "metadata": {},
   "outputs": [],
   "source": [
    "data = pd.read_excel(r\"C:\\Users\\supri\\Downloads\\Movies_Dataset.xlsx\")"
   ]
  },
  {
   "cell_type": "code",
   "execution_count": 3,
   "id": "20a6dde8",
   "metadata": {},
   "outputs": [
    {
     "name": "stdout",
     "output_type": "stream",
     "text": [
      "     Movie Name      Genre  Release_Year  IMDb_Rating  Revenue\n",
      "0       Movie 1     Sci-Fi          2000          6.0  1680.53\n",
      "1       Movie 2  Adventure          2000          2.2   987.24\n",
      "2       Movie 3    Romance          2002          5.2  1122.13\n",
      "3       Movie 4    Romance          2001          4.5   581.84\n",
      "4       Movie 5     Action          2012          6.6  1205.51\n",
      "..          ...        ...           ...          ...      ...\n",
      "995   Movie 996     Sci-Fi          2013          8.7   456.39\n",
      "996   Movie 997  Adventure          1993          6.2  1255.27\n",
      "997   Movie 998    Fantasy          2016          8.1  1161.96\n",
      "998   Movie 999     Action          1996          8.9   941.67\n",
      "999  Movie 1000     Horror          1995          9.4  1390.70\n",
      "\n",
      "[1000 rows x 5 columns]\n"
     ]
    }
   ],
   "source": [
    "print(data)"
   ]
  },
  {
   "cell_type": "code",
   "execution_count": 4,
   "id": "d2e264bd",
   "metadata": {},
   "outputs": [
    {
     "data": {
      "text/html": [
       "<div>\n",
       "<style scoped>\n",
       "    .dataframe tbody tr th:only-of-type {\n",
       "        vertical-align: middle;\n",
       "    }\n",
       "\n",
       "    .dataframe tbody tr th {\n",
       "        vertical-align: top;\n",
       "    }\n",
       "\n",
       "    .dataframe thead th {\n",
       "        text-align: right;\n",
       "    }\n",
       "</style>\n",
       "<table border=\"1\" class=\"dataframe\">\n",
       "  <thead>\n",
       "    <tr style=\"text-align: right;\">\n",
       "      <th></th>\n",
       "      <th>Movie Name</th>\n",
       "      <th>Genre</th>\n",
       "      <th>Release_Year</th>\n",
       "      <th>IMDb_Rating</th>\n",
       "      <th>Revenue</th>\n",
       "    </tr>\n",
       "  </thead>\n",
       "  <tbody>\n",
       "    <tr>\n",
       "      <th>0</th>\n",
       "      <td>Movie 1</td>\n",
       "      <td>Sci-Fi</td>\n",
       "      <td>2000</td>\n",
       "      <td>6.0</td>\n",
       "      <td>1680.53</td>\n",
       "    </tr>\n",
       "    <tr>\n",
       "      <th>1</th>\n",
       "      <td>Movie 2</td>\n",
       "      <td>Adventure</td>\n",
       "      <td>2000</td>\n",
       "      <td>2.2</td>\n",
       "      <td>987.24</td>\n",
       "    </tr>\n",
       "    <tr>\n",
       "      <th>2</th>\n",
       "      <td>Movie 3</td>\n",
       "      <td>Romance</td>\n",
       "      <td>2002</td>\n",
       "      <td>5.2</td>\n",
       "      <td>1122.13</td>\n",
       "    </tr>\n",
       "    <tr>\n",
       "      <th>3</th>\n",
       "      <td>Movie 4</td>\n",
       "      <td>Romance</td>\n",
       "      <td>2001</td>\n",
       "      <td>4.5</td>\n",
       "      <td>581.84</td>\n",
       "    </tr>\n",
       "    <tr>\n",
       "      <th>4</th>\n",
       "      <td>Movie 5</td>\n",
       "      <td>Action</td>\n",
       "      <td>2012</td>\n",
       "      <td>6.6</td>\n",
       "      <td>1205.51</td>\n",
       "    </tr>\n",
       "  </tbody>\n",
       "</table>\n",
       "</div>"
      ],
      "text/plain": [
       "  Movie Name      Genre  Release_Year  IMDb_Rating  Revenue\n",
       "0    Movie 1     Sci-Fi          2000          6.0  1680.53\n",
       "1    Movie 2  Adventure          2000          2.2   987.24\n",
       "2    Movie 3    Romance          2002          5.2  1122.13\n",
       "3    Movie 4    Romance          2001          4.5   581.84\n",
       "4    Movie 5     Action          2012          6.6  1205.51"
      ]
     },
     "execution_count": 4,
     "metadata": {},
     "output_type": "execute_result"
    }
   ],
   "source": [
    "data.head()"
   ]
  },
  {
   "cell_type": "code",
   "execution_count": 5,
   "id": "ed08c1c1",
   "metadata": {},
   "outputs": [
    {
     "data": {
      "text/html": [
       "<div>\n",
       "<style scoped>\n",
       "    .dataframe tbody tr th:only-of-type {\n",
       "        vertical-align: middle;\n",
       "    }\n",
       "\n",
       "    .dataframe tbody tr th {\n",
       "        vertical-align: top;\n",
       "    }\n",
       "\n",
       "    .dataframe thead th {\n",
       "        text-align: right;\n",
       "    }\n",
       "</style>\n",
       "<table border=\"1\" class=\"dataframe\">\n",
       "  <thead>\n",
       "    <tr style=\"text-align: right;\">\n",
       "      <th></th>\n",
       "      <th>Movie Name</th>\n",
       "      <th>Genre</th>\n",
       "      <th>Release_Year</th>\n",
       "      <th>IMDb_Rating</th>\n",
       "      <th>Revenue</th>\n",
       "    </tr>\n",
       "  </thead>\n",
       "  <tbody>\n",
       "    <tr>\n",
       "      <th>995</th>\n",
       "      <td>Movie 996</td>\n",
       "      <td>Sci-Fi</td>\n",
       "      <td>2013</td>\n",
       "      <td>8.7</td>\n",
       "      <td>456.39</td>\n",
       "    </tr>\n",
       "    <tr>\n",
       "      <th>996</th>\n",
       "      <td>Movie 997</td>\n",
       "      <td>Adventure</td>\n",
       "      <td>1993</td>\n",
       "      <td>6.2</td>\n",
       "      <td>1255.27</td>\n",
       "    </tr>\n",
       "    <tr>\n",
       "      <th>997</th>\n",
       "      <td>Movie 998</td>\n",
       "      <td>Fantasy</td>\n",
       "      <td>2016</td>\n",
       "      <td>8.1</td>\n",
       "      <td>1161.96</td>\n",
       "    </tr>\n",
       "    <tr>\n",
       "      <th>998</th>\n",
       "      <td>Movie 999</td>\n",
       "      <td>Action</td>\n",
       "      <td>1996</td>\n",
       "      <td>8.9</td>\n",
       "      <td>941.67</td>\n",
       "    </tr>\n",
       "    <tr>\n",
       "      <th>999</th>\n",
       "      <td>Movie 1000</td>\n",
       "      <td>Horror</td>\n",
       "      <td>1995</td>\n",
       "      <td>9.4</td>\n",
       "      <td>1390.70</td>\n",
       "    </tr>\n",
       "  </tbody>\n",
       "</table>\n",
       "</div>"
      ],
      "text/plain": [
       "     Movie Name      Genre  Release_Year  IMDb_Rating  Revenue\n",
       "995   Movie 996     Sci-Fi          2013          8.7   456.39\n",
       "996   Movie 997  Adventure          1993          6.2  1255.27\n",
       "997   Movie 998    Fantasy          2016          8.1  1161.96\n",
       "998   Movie 999     Action          1996          8.9   941.67\n",
       "999  Movie 1000     Horror          1995          9.4  1390.70"
      ]
     },
     "execution_count": 5,
     "metadata": {},
     "output_type": "execute_result"
    }
   ],
   "source": [
    "data.tail()"
   ]
  },
  {
   "cell_type": "code",
   "execution_count": 6,
   "id": "84c27e9f",
   "metadata": {},
   "outputs": [
    {
     "name": "stdout",
     "output_type": "stream",
     "text": [
      "    Movie Name   Genre  Release_Year  IMDb_Rating  Revenue\n",
      "4      Movie 5  Action          2012          6.6  1205.51\n",
      "34    Movie 35  Action          2009          8.7   545.60\n",
      "64    Movie 65  Action          2023          7.7  1137.79\n",
      "65    Movie 66  Action          1999          3.1  1335.85\n",
      "73    Movie 74  Action          2001          4.1   350.80\n",
      "..         ...     ...           ...          ...      ...\n",
      "930  Movie 931  Action          1994          8.6  1863.66\n",
      "944  Movie 945  Action          2004          7.5  1709.81\n",
      "980  Movie 981  Action          2022          5.2    28.40\n",
      "988  Movie 989  Action          2023          4.1   231.67\n",
      "998  Movie 999  Action          1996          8.9   941.67\n",
      "\n",
      "[104 rows x 5 columns]\n"
     ]
    }
   ],
   "source": [
    "#all movies in action genre\n",
    "data_1 = data[data['Genre'] == 'Action']\n",
    "print(data_1)"
   ]
  },
  {
   "cell_type": "code",
   "execution_count": 7,
   "id": "a3003885",
   "metadata": {},
   "outputs": [
    {
     "name": "stdout",
     "output_type": "stream",
     "text": [
      "    Movie Name     Genre  Release_Year  IMDb_Rating  Revenue\n",
      "2      Movie 3   Romance          2002          5.2  1122.13\n",
      "3      Movie 4   Romance          2001          4.5   581.84\n",
      "4      Movie 5    Action          2012          6.6  1205.51\n",
      "6      Movie 7   Mystery          2021          5.1  1683.99\n",
      "7      Movie 8    Comedy          2005          4.0  1062.13\n",
      "..         ...       ...           ...          ...      ...\n",
      "988  Movie 989    Action          2023          4.1   231.67\n",
      "989  Movie 990   Fantasy          2004          1.6  1056.58\n",
      "991  Movie 992  Thriller          2004          9.2   251.25\n",
      "995  Movie 996    Sci-Fi          2013          8.7   456.39\n",
      "997  Movie 998   Fantasy          2016          8.1  1161.96\n",
      "\n",
      "[518 rows x 5 columns]\n"
     ]
    }
   ],
   "source": [
    "#movies released after 2000\n",
    "rel = data[data['Release_Year']>2000]\n",
    "print(rel)"
   ]
  },
  {
   "cell_type": "code",
   "execution_count": 8,
   "id": "a91945ad",
   "metadata": {},
   "outputs": [
    {
     "name": "stdout",
     "output_type": "stream",
     "text": [
      "     Movie Name      Genre  Release_Year  IMDb_Rating  Revenue\n",
      "34     Movie 35     Action          2009          8.7   545.60\n",
      "51     Movie 52    Mystery          1998          9.0  1089.93\n",
      "56     Movie 57     Comedy          1993          9.2  1586.13\n",
      "74     Movie 75  Adventure          1999          8.6  1688.49\n",
      "81     Movie 82    Mystery          1997          8.6  1238.32\n",
      "..          ...        ...           ...          ...      ...\n",
      "991   Movie 992   Thriller          2004          9.2   251.25\n",
      "992   Movie 993     Horror          1985          9.6   951.23\n",
      "995   Movie 996     Sci-Fi          2013          8.7   456.39\n",
      "998   Movie 999     Action          1996          8.9   941.67\n",
      "999  Movie 1000     Horror          1995          9.4  1390.70\n",
      "\n",
      "[148 rows x 5 columns]\n"
     ]
    }
   ],
   "source": [
    "rating = data[data['IMDb_Rating']>8.5]\n",
    "print(rating)"
   ]
  },
  {
   "cell_type": "code",
   "execution_count": 9,
   "id": "e3e3e6dc",
   "metadata": {},
   "outputs": [
    {
     "data": {
      "text/html": [
       "<div>\n",
       "<style scoped>\n",
       "    .dataframe tbody tr th:only-of-type {\n",
       "        vertical-align: middle;\n",
       "    }\n",
       "\n",
       "    .dataframe tbody tr th {\n",
       "        vertical-align: top;\n",
       "    }\n",
       "\n",
       "    .dataframe thead th {\n",
       "        text-align: right;\n",
       "    }\n",
       "</style>\n",
       "<table border=\"1\" class=\"dataframe\">\n",
       "  <thead>\n",
       "    <tr style=\"text-align: right;\">\n",
       "      <th></th>\n",
       "      <th>Movie Name</th>\n",
       "      <th>Genre</th>\n",
       "    </tr>\n",
       "  </thead>\n",
       "  <tbody>\n",
       "    <tr>\n",
       "      <th>0</th>\n",
       "      <td>Movie 1</td>\n",
       "      <td>Sci-Fi</td>\n",
       "    </tr>\n",
       "    <tr>\n",
       "      <th>1</th>\n",
       "      <td>Movie 2</td>\n",
       "      <td>Adventure</td>\n",
       "    </tr>\n",
       "    <tr>\n",
       "      <th>2</th>\n",
       "      <td>Movie 3</td>\n",
       "      <td>Romance</td>\n",
       "    </tr>\n",
       "    <tr>\n",
       "      <th>3</th>\n",
       "      <td>Movie 4</td>\n",
       "      <td>Romance</td>\n",
       "    </tr>\n",
       "    <tr>\n",
       "      <th>4</th>\n",
       "      <td>Movie 5</td>\n",
       "      <td>Action</td>\n",
       "    </tr>\n",
       "    <tr>\n",
       "      <th>...</th>\n",
       "      <td>...</td>\n",
       "      <td>...</td>\n",
       "    </tr>\n",
       "    <tr>\n",
       "      <th>995</th>\n",
       "      <td>Movie 996</td>\n",
       "      <td>Sci-Fi</td>\n",
       "    </tr>\n",
       "    <tr>\n",
       "      <th>996</th>\n",
       "      <td>Movie 997</td>\n",
       "      <td>Adventure</td>\n",
       "    </tr>\n",
       "    <tr>\n",
       "      <th>997</th>\n",
       "      <td>Movie 998</td>\n",
       "      <td>Fantasy</td>\n",
       "    </tr>\n",
       "    <tr>\n",
       "      <th>998</th>\n",
       "      <td>Movie 999</td>\n",
       "      <td>Action</td>\n",
       "    </tr>\n",
       "    <tr>\n",
       "      <th>999</th>\n",
       "      <td>Movie 1000</td>\n",
       "      <td>Horror</td>\n",
       "    </tr>\n",
       "  </tbody>\n",
       "</table>\n",
       "<p>1000 rows × 2 columns</p>\n",
       "</div>"
      ],
      "text/plain": [
       "     Movie Name      Genre\n",
       "0       Movie 1     Sci-Fi\n",
       "1       Movie 2  Adventure\n",
       "2       Movie 3    Romance\n",
       "3       Movie 4    Romance\n",
       "4       Movie 5     Action\n",
       "..          ...        ...\n",
       "995   Movie 996     Sci-Fi\n",
       "996   Movie 997  Adventure\n",
       "997   Movie 998    Fantasy\n",
       "998   Movie 999     Action\n",
       "999  Movie 1000     Horror\n",
       "\n",
       "[1000 rows x 2 columns]"
      ]
     },
     "execution_count": 9,
     "metadata": {},
     "output_type": "execute_result"
    }
   ],
   "source": [
    "data[['Movie Name','Genre']]"
   ]
  },
  {
   "cell_type": "code",
   "execution_count": 10,
   "id": "83c30107",
   "metadata": {},
   "outputs": [
    {
     "name": "stdout",
     "output_type": "stream",
     "text": [
      "     Movie Name      Genre  Release_Year  IMDb_Rating  Revenue\n",
      "0       Movie 1     Sci-Fi          2000          6.0  1680.53\n",
      "1       Movie 2  Adventure          2000          2.2   987.24\n",
      "2       Movie 3    Romance          2002          5.2  1122.13\n",
      "3       Movie 4    Romance          2001          4.5   581.84\n",
      "5       Movie 6    Fantasy          1997          2.4   485.22\n",
      "..          ...        ...           ...          ...      ...\n",
      "991   Movie 992   Thriller          2004          9.2   251.25\n",
      "994   Movie 995     Sci-Fi          1997          2.0   342.98\n",
      "996   Movie 997  Adventure          1993          6.2  1255.27\n",
      "998   Movie 999     Action          1996          8.9   941.67\n",
      "999  Movie 1000     Horror          1995          9.4  1390.70\n",
      "\n",
      "[500 rows x 5 columns]\n"
     ]
    }
   ],
   "source": [
    "data_2 = data[(data['Release_Year'] >= 1990) & (data['Release_Year'] <= 2010)]\n",
    "print(data_2)"
   ]
  },
  {
   "cell_type": "code",
   "execution_count": 11,
   "id": "c5ace159",
   "metadata": {},
   "outputs": [
    {
     "data": {
      "text/plain": [
       "Genre\n",
       "Drama        113\n",
       "Comedy       110\n",
       "Fantasy      107\n",
       "Thriller     107\n",
       "Action       104\n",
       "Adventure     96\n",
       "Sci-Fi        93\n",
       "Romance       91\n",
       "Horror        90\n",
       "Mystery       89\n",
       "Name: count, dtype: int64"
      ]
     },
     "execution_count": 11,
     "metadata": {},
     "output_type": "execute_result"
    }
   ],
   "source": [
    "data['Genre'].value_counts()"
   ]
  },
  {
   "cell_type": "code",
   "execution_count": 12,
   "id": "e8031a2e",
   "metadata": {},
   "outputs": [
    {
     "name": "stdout",
     "output_type": "stream",
     "text": [
      "    Movie Name    Genre  Release_Year  IMDb_Rating  Revenue\n",
      "106  Movie 107  Romance          2007         10.0  1837.45\n",
      "241  Movie 242   Comedy          2006         10.0   802.61\n",
      "472  Movie 473  Fantasy          1985         10.0   845.18\n",
      "564  Movie 565   Action          2020         10.0   943.50\n",
      "610  Movie 611  Mystery          2017         10.0  1355.06\n",
      "628  Movie 629  Mystery          1994         10.0   644.31\n"
     ]
    }
   ],
   "source": [
    "data_3 = data[data['IMDb_Rating'] == data['IMDb_Rating'].max()]\n",
    "print(data_3)"
   ]
  },
  {
   "cell_type": "code",
   "execution_count": 13,
   "id": "f9a7ffe8",
   "metadata": {},
   "outputs": [
    {
     "data": {
      "text/plain": [
       "5.458600000000001"
      ]
     },
     "execution_count": 13,
     "metadata": {},
     "output_type": "execute_result"
    }
   ],
   "source": [
    "data['IMDb_Rating'].mean()"
   ]
  },
  {
   "cell_type": "code",
   "execution_count": 14,
   "id": "3817e6d1",
   "metadata": {},
   "outputs": [
    {
     "data": {
      "text/plain": [
       "1049716.26"
      ]
     },
     "execution_count": 14,
     "metadata": {},
     "output_type": "execute_result"
    }
   ],
   "source": [
    "data['Revenue'].sum()"
   ]
  },
  {
   "cell_type": "code",
   "execution_count": 15,
   "id": "1ba5708c",
   "metadata": {},
   "outputs": [
    {
     "name": "stdout",
     "output_type": "stream",
     "text": [
      "     Movie Name      Genre  Release_Year  IMDb_Rating  Revenue\n",
      "0       Movie 1     Sci-Fi          2000          6.0  1680.53\n",
      "1       Movie 2  Adventure          2000          2.2   987.24\n",
      "2       Movie 3    Romance          2002          5.2  1122.13\n",
      "3       Movie 4    Romance          2001          4.5   581.84\n",
      "4       Movie 5     Action          2012          6.6  1205.51\n",
      "..          ...        ...           ...          ...      ...\n",
      "993   Movie 994  Adventure          1989          7.3  1273.65\n",
      "996   Movie 997  Adventure          1993          6.2  1255.27\n",
      "997   Movie 998    Fantasy          2016          8.1  1161.96\n",
      "998   Movie 999     Action          1996          8.9   941.67\n",
      "999  Movie 1000     Horror          1995          9.4  1390.70\n",
      "\n",
      "[774 rows x 5 columns]\n"
     ]
    }
   ],
   "source": [
    "movies = data[data['Revenue']>500]\n",
    "print(movies)"
   ]
  },
  {
   "cell_type": "code",
   "execution_count": 16,
   "id": "1840be39",
   "metadata": {},
   "outputs": [
    {
     "data": {
      "text/html": [
       "<div>\n",
       "<style scoped>\n",
       "    .dataframe tbody tr th:only-of-type {\n",
       "        vertical-align: middle;\n",
       "    }\n",
       "\n",
       "    .dataframe tbody tr th {\n",
       "        vertical-align: top;\n",
       "    }\n",
       "\n",
       "    .dataframe thead th {\n",
       "        text-align: right;\n",
       "    }\n",
       "</style>\n",
       "<table border=\"1\" class=\"dataframe\">\n",
       "  <thead>\n",
       "    <tr style=\"text-align: right;\">\n",
       "      <th></th>\n",
       "      <th>Movie Name</th>\n",
       "      <th>Genre</th>\n",
       "      <th>Release_Year</th>\n",
       "      <th>IMDb_Rating</th>\n",
       "      <th>Revenue</th>\n",
       "      <th>Rank</th>\n",
       "    </tr>\n",
       "  </thead>\n",
       "  <tbody>\n",
       "    <tr>\n",
       "      <th>0</th>\n",
       "      <td>Movie 1</td>\n",
       "      <td>Sci-Fi</td>\n",
       "      <td>2000</td>\n",
       "      <td>6.0</td>\n",
       "      <td>1680.53</td>\n",
       "      <td>432.5</td>\n",
       "    </tr>\n",
       "    <tr>\n",
       "      <th>1</th>\n",
       "      <td>Movie 2</td>\n",
       "      <td>Adventure</td>\n",
       "      <td>2000</td>\n",
       "      <td>2.2</td>\n",
       "      <td>987.24</td>\n",
       "      <td>869.0</td>\n",
       "    </tr>\n",
       "    <tr>\n",
       "      <th>2</th>\n",
       "      <td>Movie 3</td>\n",
       "      <td>Romance</td>\n",
       "      <td>2002</td>\n",
       "      <td>5.2</td>\n",
       "      <td>1122.13</td>\n",
       "      <td>529.5</td>\n",
       "    </tr>\n",
       "    <tr>\n",
       "      <th>3</th>\n",
       "      <td>Movie 4</td>\n",
       "      <td>Romance</td>\n",
       "      <td>2001</td>\n",
       "      <td>4.5</td>\n",
       "      <td>581.84</td>\n",
       "      <td>609.5</td>\n",
       "    </tr>\n",
       "    <tr>\n",
       "      <th>4</th>\n",
       "      <td>Movie 5</td>\n",
       "      <td>Action</td>\n",
       "      <td>2012</td>\n",
       "      <td>6.6</td>\n",
       "      <td>1205.51</td>\n",
       "      <td>353.5</td>\n",
       "    </tr>\n",
       "  </tbody>\n",
       "</table>\n",
       "</div>"
      ],
      "text/plain": [
       "  Movie Name      Genre  Release_Year  IMDb_Rating  Revenue   Rank\n",
       "0    Movie 1     Sci-Fi          2000          6.0  1680.53  432.5\n",
       "1    Movie 2  Adventure          2000          2.2   987.24  869.0\n",
       "2    Movie 3    Romance          2002          5.2  1122.13  529.5\n",
       "3    Movie 4    Romance          2001          4.5   581.84  609.5\n",
       "4    Movie 5     Action          2012          6.6  1205.51  353.5"
      ]
     },
     "execution_count": 16,
     "metadata": {},
     "output_type": "execute_result"
    }
   ],
   "source": [
    "data['Rank'] = data['IMDb_Rating'].rank(ascending=False)\n",
    "data.head()"
   ]
  },
  {
   "cell_type": "code",
   "execution_count": 17,
   "id": "df7381dc",
   "metadata": {},
   "outputs": [
    {
     "data": {
      "text/html": [
       "<div>\n",
       "<style scoped>\n",
       "    .dataframe tbody tr th:only-of-type {\n",
       "        vertical-align: middle;\n",
       "    }\n",
       "\n",
       "    .dataframe tbody tr th {\n",
       "        vertical-align: top;\n",
       "    }\n",
       "\n",
       "    .dataframe thead th {\n",
       "        text-align: right;\n",
       "    }\n",
       "</style>\n",
       "<table border=\"1\" class=\"dataframe\">\n",
       "  <thead>\n",
       "    <tr style=\"text-align: right;\">\n",
       "      <th></th>\n",
       "      <th>Movie Name</th>\n",
       "      <th>Genre</th>\n",
       "      <th>Release_Year</th>\n",
       "      <th>IMDb_Rating</th>\n",
       "      <th>Revenue</th>\n",
       "      <th>Rank</th>\n",
       "    </tr>\n",
       "  </thead>\n",
       "  <tbody>\n",
       "    <tr>\n",
       "      <th>0</th>\n",
       "      <td>Movie 1</td>\n",
       "      <td>Sci-Fi</td>\n",
       "      <td>2000</td>\n",
       "      <td>6.0</td>\n",
       "      <td>1680.53</td>\n",
       "      <td>432.5</td>\n",
       "    </tr>\n",
       "    <tr>\n",
       "      <th>1</th>\n",
       "      <td>Movie 2</td>\n",
       "      <td>Adventure</td>\n",
       "      <td>2000</td>\n",
       "      <td>2.2</td>\n",
       "      <td>987.24</td>\n",
       "      <td>869.0</td>\n",
       "    </tr>\n",
       "    <tr>\n",
       "      <th>2</th>\n",
       "      <td>Movie 3</td>\n",
       "      <td>Romance</td>\n",
       "      <td>2002</td>\n",
       "      <td>5.2</td>\n",
       "      <td>1122.13</td>\n",
       "      <td>529.5</td>\n",
       "    </tr>\n",
       "    <tr>\n",
       "      <th>3</th>\n",
       "      <td>Movie 4</td>\n",
       "      <td>Romance</td>\n",
       "      <td>2001</td>\n",
       "      <td>4.5</td>\n",
       "      <td>581.84</td>\n",
       "      <td>609.5</td>\n",
       "    </tr>\n",
       "    <tr>\n",
       "      <th>4</th>\n",
       "      <td>Movie 5</td>\n",
       "      <td>Action</td>\n",
       "      <td>2012</td>\n",
       "      <td>6.6</td>\n",
       "      <td>1205.51</td>\n",
       "      <td>353.5</td>\n",
       "    </tr>\n",
       "    <tr>\n",
       "      <th>5</th>\n",
       "      <td>Movie 6</td>\n",
       "      <td>Fantasy</td>\n",
       "      <td>1997</td>\n",
       "      <td>2.4</td>\n",
       "      <td>485.22</td>\n",
       "      <td>844.5</td>\n",
       "    </tr>\n",
       "    <tr>\n",
       "      <th>6</th>\n",
       "      <td>Movie 7</td>\n",
       "      <td>Mystery</td>\n",
       "      <td>2021</td>\n",
       "      <td>5.1</td>\n",
       "      <td>1683.99</td>\n",
       "      <td>545.5</td>\n",
       "    </tr>\n",
       "    <tr>\n",
       "      <th>7</th>\n",
       "      <td>Movie 8</td>\n",
       "      <td>Comedy</td>\n",
       "      <td>2005</td>\n",
       "      <td>4.0</td>\n",
       "      <td>1062.13</td>\n",
       "      <td>672.5</td>\n",
       "    </tr>\n",
       "    <tr>\n",
       "      <th>8</th>\n",
       "      <td>Movie 9</td>\n",
       "      <td>Horror</td>\n",
       "      <td>1992</td>\n",
       "      <td>2.8</td>\n",
       "      <td>1592.74</td>\n",
       "      <td>815.0</td>\n",
       "    </tr>\n",
       "    <tr>\n",
       "      <th>9</th>\n",
       "      <td>Movie 10</td>\n",
       "      <td>Drama</td>\n",
       "      <td>1996</td>\n",
       "      <td>3.2</td>\n",
       "      <td>1352.66</td>\n",
       "      <td>765.5</td>\n",
       "    </tr>\n",
       "  </tbody>\n",
       "</table>\n",
       "</div>"
      ],
      "text/plain": [
       "  Movie Name      Genre  Release_Year  IMDb_Rating  Revenue   Rank\n",
       "0    Movie 1     Sci-Fi          2000          6.0  1680.53  432.5\n",
       "1    Movie 2  Adventure          2000          2.2   987.24  869.0\n",
       "2    Movie 3    Romance          2002          5.2  1122.13  529.5\n",
       "3    Movie 4    Romance          2001          4.5   581.84  609.5\n",
       "4    Movie 5     Action          2012          6.6  1205.51  353.5\n",
       "5    Movie 6    Fantasy          1997          2.4   485.22  844.5\n",
       "6    Movie 7    Mystery          2021          5.1  1683.99  545.5\n",
       "7    Movie 8     Comedy          2005          4.0  1062.13  672.5\n",
       "8    Movie 9     Horror          1992          2.8  1592.74  815.0\n",
       "9   Movie 10      Drama          1996          3.2  1352.66  765.5"
      ]
     },
     "execution_count": 17,
     "metadata": {},
     "output_type": "execute_result"
    }
   ],
   "source": [
    "data.sort_values(by='Release_Year',ascending=False)\n",
    "data.head(10)"
   ]
  },
  {
   "cell_type": "code",
   "execution_count": 18,
   "id": "4ddd8ed6",
   "metadata": {},
   "outputs": [
    {
     "data": {
      "text/html": [
       "<div>\n",
       "<style scoped>\n",
       "    .dataframe tbody tr th:only-of-type {\n",
       "        vertical-align: middle;\n",
       "    }\n",
       "\n",
       "    .dataframe tbody tr th {\n",
       "        vertical-align: top;\n",
       "    }\n",
       "\n",
       "    .dataframe thead th {\n",
       "        text-align: right;\n",
       "    }\n",
       "</style>\n",
       "<table border=\"1\" class=\"dataframe\">\n",
       "  <thead>\n",
       "    <tr style=\"text-align: right;\">\n",
       "      <th></th>\n",
       "      <th>Movie Name</th>\n",
       "      <th>Genre</th>\n",
       "      <th>Release_Year</th>\n",
       "      <th>IMDb_Rating</th>\n",
       "      <th>Revenue</th>\n",
       "      <th>Rank</th>\n",
       "    </tr>\n",
       "  </thead>\n",
       "  <tbody>\n",
       "    <tr>\n",
       "      <th>12</th>\n",
       "      <td>Movie 10</td>\n",
       "      <td>Drama</td>\n",
       "      <td>1996</td>\n",
       "      <td>3.2</td>\n",
       "      <td>1352.66</td>\n",
       "      <td>765.5</td>\n",
       "    </tr>\n",
       "    <tr>\n",
       "      <th>13</th>\n",
       "      <td>Movie 11</td>\n",
       "      <td>Mystery</td>\n",
       "      <td>2003</td>\n",
       "      <td>6.3</td>\n",
       "      <td>596.43</td>\n",
       "      <td>392.0</td>\n",
       "    </tr>\n",
       "    <tr>\n",
       "      <th>14</th>\n",
       "      <td>Movie 12</td>\n",
       "      <td>Sci-Fi</td>\n",
       "      <td>1988</td>\n",
       "      <td>3.0</td>\n",
       "      <td>1134.01</td>\n",
       "      <td>786.5</td>\n",
       "    </tr>\n",
       "    <tr>\n",
       "      <th>20</th>\n",
       "      <td>Movie 16</td>\n",
       "      <td>Comedy</td>\n",
       "      <td>2006</td>\n",
       "      <td>2.3</td>\n",
       "      <td>1322.79</td>\n",
       "      <td>856.0</td>\n",
       "    </tr>\n",
       "    <tr>\n",
       "      <th>21</th>\n",
       "      <td>Movie 17</td>\n",
       "      <td>Horror</td>\n",
       "      <td>2007</td>\n",
       "      <td>6.2</td>\n",
       "      <td>1114.31</td>\n",
       "      <td>406.5</td>\n",
       "    </tr>\n",
       "    <tr>\n",
       "      <th>22</th>\n",
       "      <td>Movie 18</td>\n",
       "      <td>Adventure</td>\n",
       "      <td>1998</td>\n",
       "      <td>7.9</td>\n",
       "      <td>1426.73</td>\n",
       "      <td>221.0</td>\n",
       "    </tr>\n",
       "    <tr>\n",
       "      <th>23</th>\n",
       "      <td>Movie 19</td>\n",
       "      <td>Comedy</td>\n",
       "      <td>1986</td>\n",
       "      <td>6.0</td>\n",
       "      <td>1783.44</td>\n",
       "      <td>432.5</td>\n",
       "    </tr>\n",
       "    <tr>\n",
       "      <th>24</th>\n",
       "      <td>Movie 20</td>\n",
       "      <td>Fantasy</td>\n",
       "      <td>1982</td>\n",
       "      <td>6.9</td>\n",
       "      <td>1598.08</td>\n",
       "      <td>329.0</td>\n",
       "    </tr>\n",
       "  </tbody>\n",
       "</table>\n",
       "</div>"
      ],
      "text/plain": [
       "   Movie Name      Genre  Release_Year  IMDb_Rating  Revenue   Rank\n",
       "12   Movie 10      Drama          1996          3.2  1352.66  765.5\n",
       "13   Movie 11    Mystery          2003          6.3   596.43  392.0\n",
       "14   Movie 12     Sci-Fi          1988          3.0  1134.01  786.5\n",
       "20   Movie 16     Comedy          2006          2.3  1322.79  856.0\n",
       "21   Movie 17     Horror          2007          6.2  1114.31  406.5\n",
       "22   Movie 18  Adventure          1998          7.9  1426.73  221.0\n",
       "23   Movie 19     Comedy          1986          6.0  1783.44  432.5\n",
       "24   Movie 20    Fantasy          1982          6.9  1598.08  329.0"
      ]
     },
     "execution_count": 18,
     "metadata": {},
     "output_type": "execute_result"
    }
   ],
   "source": [
    "data[data.duplicated(subset=['Movie Name'])]"
   ]
  },
  {
   "cell_type": "code",
   "execution_count": 19,
   "id": "1bfc6675",
   "metadata": {},
   "outputs": [
    {
     "data": {
      "text/html": [
       "<div>\n",
       "<style scoped>\n",
       "    .dataframe tbody tr th:only-of-type {\n",
       "        vertical-align: middle;\n",
       "    }\n",
       "\n",
       "    .dataframe tbody tr th {\n",
       "        vertical-align: top;\n",
       "    }\n",
       "\n",
       "    .dataframe thead th {\n",
       "        text-align: right;\n",
       "    }\n",
       "</style>\n",
       "<table border=\"1\" class=\"dataframe\">\n",
       "  <thead>\n",
       "    <tr style=\"text-align: right;\">\n",
       "      <th></th>\n",
       "      <th>Movie Name</th>\n",
       "      <th>Genre</th>\n",
       "      <th>Release_Year</th>\n",
       "      <th>IMDb_Rating</th>\n",
       "      <th>Revenue</th>\n",
       "      <th>Rank</th>\n",
       "    </tr>\n",
       "  </thead>\n",
       "  <tbody>\n",
       "    <tr>\n",
       "      <th>0</th>\n",
       "      <td>Movie 1</td>\n",
       "      <td>Sci-Fi</td>\n",
       "      <td>2000</td>\n",
       "      <td>6.0</td>\n",
       "      <td>1680.53</td>\n",
       "      <td>432.5</td>\n",
       "    </tr>\n",
       "    <tr>\n",
       "      <th>1</th>\n",
       "      <td>Movie 2</td>\n",
       "      <td>Adventure</td>\n",
       "      <td>2000</td>\n",
       "      <td>2.2</td>\n",
       "      <td>987.24</td>\n",
       "      <td>869.0</td>\n",
       "    </tr>\n",
       "    <tr>\n",
       "      <th>2</th>\n",
       "      <td>Movie 3</td>\n",
       "      <td>Romance</td>\n",
       "      <td>2002</td>\n",
       "      <td>5.2</td>\n",
       "      <td>1122.13</td>\n",
       "      <td>529.5</td>\n",
       "    </tr>\n",
       "    <tr>\n",
       "      <th>3</th>\n",
       "      <td>Movie 4</td>\n",
       "      <td>Romance</td>\n",
       "      <td>2001</td>\n",
       "      <td>4.5</td>\n",
       "      <td>581.84</td>\n",
       "      <td>609.5</td>\n",
       "    </tr>\n",
       "    <tr>\n",
       "      <th>4</th>\n",
       "      <td>Movie 5</td>\n",
       "      <td>Action</td>\n",
       "      <td>2012</td>\n",
       "      <td>6.6</td>\n",
       "      <td>1205.51</td>\n",
       "      <td>353.5</td>\n",
       "    </tr>\n",
       "    <tr>\n",
       "      <th>...</th>\n",
       "      <td>...</td>\n",
       "      <td>...</td>\n",
       "      <td>...</td>\n",
       "      <td>...</td>\n",
       "      <td>...</td>\n",
       "      <td>...</td>\n",
       "    </tr>\n",
       "    <tr>\n",
       "      <th>995</th>\n",
       "      <td>Movie 996</td>\n",
       "      <td>Sci-Fi</td>\n",
       "      <td>2013</td>\n",
       "      <td>8.7</td>\n",
       "      <td>456.39</td>\n",
       "      <td>131.5</td>\n",
       "    </tr>\n",
       "    <tr>\n",
       "      <th>996</th>\n",
       "      <td>Movie 997</td>\n",
       "      <td>Adventure</td>\n",
       "      <td>1993</td>\n",
       "      <td>6.2</td>\n",
       "      <td>1255.27</td>\n",
       "      <td>406.5</td>\n",
       "    </tr>\n",
       "    <tr>\n",
       "      <th>997</th>\n",
       "      <td>Movie 998</td>\n",
       "      <td>Fantasy</td>\n",
       "      <td>2016</td>\n",
       "      <td>8.1</td>\n",
       "      <td>1161.96</td>\n",
       "      <td>199.5</td>\n",
       "    </tr>\n",
       "    <tr>\n",
       "      <th>998</th>\n",
       "      <td>Movie 999</td>\n",
       "      <td>Action</td>\n",
       "      <td>1996</td>\n",
       "      <td>8.9</td>\n",
       "      <td>941.67</td>\n",
       "      <td>104.5</td>\n",
       "    </tr>\n",
       "    <tr>\n",
       "      <th>999</th>\n",
       "      <td>Movie 1000</td>\n",
       "      <td>Horror</td>\n",
       "      <td>1995</td>\n",
       "      <td>9.4</td>\n",
       "      <td>1390.70</td>\n",
       "      <td>54.0</td>\n",
       "    </tr>\n",
       "  </tbody>\n",
       "</table>\n",
       "<p>992 rows × 6 columns</p>\n",
       "</div>"
      ],
      "text/plain": [
       "     Movie Name      Genre  Release_Year  IMDb_Rating  Revenue   Rank\n",
       "0       Movie 1     Sci-Fi          2000          6.0  1680.53  432.5\n",
       "1       Movie 2  Adventure          2000          2.2   987.24  869.0\n",
       "2       Movie 3    Romance          2002          5.2  1122.13  529.5\n",
       "3       Movie 4    Romance          2001          4.5   581.84  609.5\n",
       "4       Movie 5     Action          2012          6.6  1205.51  353.5\n",
       "..          ...        ...           ...          ...      ...    ...\n",
       "995   Movie 996     Sci-Fi          2013          8.7   456.39  131.5\n",
       "996   Movie 997  Adventure          1993          6.2  1255.27  406.5\n",
       "997   Movie 998    Fantasy          2016          8.1  1161.96  199.5\n",
       "998   Movie 999     Action          1996          8.9   941.67  104.5\n",
       "999  Movie 1000     Horror          1995          9.4  1390.70   54.0\n",
       "\n",
       "[992 rows x 6 columns]"
      ]
     },
     "execution_count": 19,
     "metadata": {},
     "output_type": "execute_result"
    }
   ],
   "source": [
    "data.drop_duplicates(subset=['Movie Name'])"
   ]
  },
  {
   "cell_type": "code",
   "execution_count": 20,
   "id": "65690b6e",
   "metadata": {},
   "outputs": [
    {
     "name": "stdout",
     "output_type": "stream",
     "text": [
      "0      Science Fiction\n",
      "1            Adventure\n",
      "2              Romance\n",
      "3              Romance\n",
      "4               Action\n",
      "            ...       \n",
      "995    Science Fiction\n",
      "996          Adventure\n",
      "997            Fantasy\n",
      "998             Action\n",
      "999             Horror\n",
      "Name: Genre, Length: 1000, dtype: object\n"
     ]
    }
   ],
   "source": [
    "dataa = data['Genre'].replace('Sci-Fi','Science Fiction')\n",
    "print(dataa)"
   ]
  },
  {
   "cell_type": "code",
   "execution_count": 21,
   "id": "f5413ec9",
   "metadata": {},
   "outputs": [
    {
     "data": {
      "text/plain": [
       "0     Movie 1\n",
       "1     Movie 2\n",
       "2     Movie 3\n",
       "3     Movie 4\n",
       "4     Movie 5\n",
       "5     Movie 6\n",
       "6     Movie 7\n",
       "7     Movie 8\n",
       "8     Movie 9\n",
       "9    Movie 10\n",
       "Name: Movie Name, dtype: object"
      ]
     },
     "execution_count": 21,
     "metadata": {},
     "output_type": "execute_result"
    }
   ],
   "source": [
    "data['Movie Name'].head(10)"
   ]
  },
  {
   "cell_type": "code",
   "execution_count": 22,
   "id": "dde9c159",
   "metadata": {},
   "outputs": [
    {
     "data": {
      "text/plain": [
       "995     Movie 996\n",
       "996     Movie 997\n",
       "997     Movie 998\n",
       "998     Movie 999\n",
       "999    Movie 1000\n",
       "Name: Movie Name, dtype: object"
      ]
     },
     "execution_count": 22,
     "metadata": {},
     "output_type": "execute_result"
    }
   ],
   "source": [
    "data['Movie Name'].tail(5)"
   ]
  },
  {
   "cell_type": "code",
   "execution_count": 23,
   "id": "b625734e",
   "metadata": {},
   "outputs": [
    {
     "data": {
      "text/plain": [
       "Genre\n",
       "Action       5.670192\n",
       "Adventure    5.012500\n",
       "Comedy       5.442727\n",
       "Drama        5.173451\n",
       "Fantasy      5.200000\n",
       "Horror       5.814444\n",
       "Mystery      5.778652\n",
       "Romance      5.938462\n",
       "Sci-Fi       5.445161\n",
       "Thriller     5.267290\n",
       "Name: IMDb_Rating, dtype: float64"
      ]
     },
     "execution_count": 23,
     "metadata": {},
     "output_type": "execute_result"
    }
   ],
   "source": [
    "data.groupby('Genre')['IMDb_Rating'].mean()"
   ]
  },
  {
   "cell_type": "code",
   "execution_count": 24,
   "id": "8b44d71e",
   "metadata": {},
   "outputs": [
    {
     "data": {
      "text/plain": [
       "Release_Year\n",
       "1980    26\n",
       "1981    17\n",
       "1982    21\n",
       "1983    16\n",
       "1984    16\n",
       "1985    28\n",
       "1986    21\n",
       "1987    17\n",
       "1988    20\n",
       "1989    30\n",
       "1990    21\n",
       "1991    21\n",
       "1992    26\n",
       "1993    21\n",
       "1994    23\n",
       "1995    27\n",
       "1996    26\n",
       "1997    22\n",
       "1998    29\n",
       "1999    25\n",
       "2000    29\n",
       "2001    23\n",
       "2002    24\n",
       "2003    25\n",
       "2004    20\n",
       "2005    21\n",
       "2006    23\n",
       "2007    29\n",
       "2008    24\n",
       "2009    21\n",
       "2010    20\n",
       "2011    23\n",
       "2012    20\n",
       "2013    26\n",
       "2014    20\n",
       "2015    23\n",
       "2016    14\n",
       "2017    18\n",
       "2018    18\n",
       "2019    15\n",
       "2020    20\n",
       "2021    16\n",
       "2022    25\n",
       "2023    18\n",
       "2024    32\n",
       "Name: count, dtype: int64"
      ]
     },
     "execution_count": 24,
     "metadata": {},
     "output_type": "execute_result"
    }
   ],
   "source": [
    "data['Release_Year'].value_counts().sort_index()"
   ]
  },
  {
   "cell_type": "code",
   "execution_count": 25,
   "id": "25d7b8f0",
   "metadata": {},
   "outputs": [
    {
     "data": {
      "text/plain": [
       "Genre\n",
       "Action       111137.94\n",
       "Adventure    103864.42\n",
       "Comedy       122686.63\n",
       "Drama        120311.32\n",
       "Fantasy      109849.86\n",
       "Horror        90395.52\n",
       "Mystery       98832.93\n",
       "Romance       94413.72\n",
       "Sci-Fi        85811.80\n",
       "Thriller     112412.12\n",
       "Name: Revenue, dtype: float64"
      ]
     },
     "execution_count": 25,
     "metadata": {},
     "output_type": "execute_result"
    }
   ],
   "source": [
    "data.groupby('Genre')['Revenue'].sum()"
   ]
  }
 ],
 "metadata": {
  "kernelspec": {
   "display_name": "Python 3 (ipykernel)",
   "language": "python",
   "name": "python3"
  },
  "language_info": {
   "codemirror_mode": {
    "name": "ipython",
    "version": 3
   },
   "file_extension": ".py",
   "mimetype": "text/x-python",
   "name": "python",
   "nbconvert_exporter": "python",
   "pygments_lexer": "ipython3",
   "version": "3.12.7"
  }
 },
 "nbformat": 4,
 "nbformat_minor": 5
}
